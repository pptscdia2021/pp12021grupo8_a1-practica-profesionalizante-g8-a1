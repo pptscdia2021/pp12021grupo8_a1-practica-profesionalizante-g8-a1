{
 "cells": [
  {
   "cell_type": "code",
   "execution_count": 1,
   "metadata": {},
   "outputs": [
    {
     "name": "stdout",
     "output_type": "stream",
     "text": [
      "Requirement already satisfied: pymysql in c:\\users\\karina\\anaconda3\\lib\\site-packages (1.0.2)\n",
      "Note: you may need to restart the kernel to use updated packages.\n"
     ]
    }
   ],
   "source": [
    "pip install pymysql"
   ]
  },
  {
   "cell_type": "code",
   "execution_count": 2,
   "metadata": {},
   "outputs": [
    {
     "name": "stdout",
     "output_type": "stream",
     "text": [
      "Conexión correcta\n"
     ]
    }
   ],
   "source": [
    "import pymysql\n",
    "try:\n",
    "\tconexion = pymysql.connect(host='localhost',\n",
    "                             user='root',\n",
    "                             password='Ceci2803',\n",
    "                             db='employees')\n",
    "\tprint(\"Conexión correcta\")\n",
    "except (pymysql.err.OperationalError, pymysql.err.InternalError) as e:\n",
    "\tprint(\"Ocurrió un error al conectar: \", e)"
   ]
  },
  {
   "cell_type": "code",
   "execution_count": 5,
   "metadata": {},
   "outputs": [
    {
     "name": "stdout",
     "output_type": "stream",
     "text": [
      "(10001, datetime.date(1953, 9, 2), 'Georgi', 'Facello', 'M', datetime.date(1986, 6, 26))\n",
      "(10002, datetime.date(1964, 6, 2), 'Bezalel', 'Simmel', 'F', datetime.date(1985, 11, 21))\n",
      "(10003, datetime.date(1959, 12, 3), 'Parto', 'Bamford', 'M', datetime.date(1986, 8, 28))\n",
      "(10004, datetime.date(1954, 5, 1), 'Chirstian', 'Koblick', 'M', datetime.date(1986, 12, 1))\n",
      "(10005, datetime.date(1955, 1, 21), 'Kyoichi', 'Maliniak', 'M', datetime.date(1989, 9, 12))\n",
      "(10006, datetime.date(1953, 4, 20), 'Anneke', 'Preusig', 'F', datetime.date(1989, 6, 2))\n",
      "(10007, datetime.date(1957, 5, 23), 'Tzvetan', 'Zielinski', 'F', datetime.date(1989, 2, 10))\n",
      "(10008, datetime.date(1958, 2, 19), 'Saniya', 'Kalloufi', 'M', datetime.date(1994, 9, 15))\n",
      "(10009, datetime.date(1952, 4, 19), 'Sumant', 'Peac', 'F', datetime.date(1985, 2, 18))\n",
      "(10010, datetime.date(1963, 6, 1), 'Duangkaew', 'Piveteau', 'F', datetime.date(1989, 8, 24))\n",
      "(10011, datetime.date(1953, 11, 7), 'Mary', 'Sluis', 'F', datetime.date(1990, 1, 22))\n",
      "(10012, datetime.date(1960, 10, 4), 'Patricio', 'Bridgland', 'M', datetime.date(1992, 12, 18))\n",
      "(10013, datetime.date(1963, 6, 7), 'Eberhardt', 'Terkki', 'M', datetime.date(1985, 10, 20))\n",
      "(10014, datetime.date(1956, 2, 12), 'Berni', 'Genin', 'M', datetime.date(1987, 3, 11))\n",
      "(10015, datetime.date(1959, 8, 19), 'Guoxiang', 'Nooteboom', 'M', datetime.date(1987, 7, 2))\n",
      "(10016, datetime.date(1961, 5, 2), 'Kazuhito', 'Cappelletti', 'M', datetime.date(1995, 1, 27))\n",
      "(10017, datetime.date(1958, 7, 6), 'Cristinel', 'Bouloucos', 'F', datetime.date(1993, 8, 3))\n",
      "(10018, datetime.date(1954, 6, 19), 'Kazuhide', 'Peha', 'F', datetime.date(1987, 4, 3))\n",
      "(10019, datetime.date(1953, 1, 23), 'Lillian', 'Haddadi', 'M', datetime.date(1999, 4, 30))\n",
      "(10020, datetime.date(1952, 12, 24), 'Mayuko', 'Warwick', 'M', datetime.date(1991, 1, 26))\n",
      "(10021, datetime.date(1960, 2, 20), 'Ramzi', 'Erde', 'M', datetime.date(1988, 2, 10))\n",
      "(10022, datetime.date(1952, 7, 8), 'Shahaf', 'Famili', 'M', datetime.date(1995, 8, 22))\n",
      "(10023, datetime.date(1953, 9, 29), 'Bojan', 'Montemayor', 'F', datetime.date(1989, 12, 17))\n",
      "(10024, datetime.date(1958, 9, 5), 'Suzette', 'Pettey', 'F', datetime.date(1997, 5, 19))\n",
      "(10025, datetime.date(1958, 10, 31), 'Prasadram', 'Heyers', 'M', datetime.date(1987, 8, 17))\n",
      "(10026, datetime.date(1953, 4, 3), 'Yongqiao', 'Berztiss', 'M', datetime.date(1995, 3, 20))\n",
      "(10027, datetime.date(1962, 7, 10), 'Divier', 'Reistad', 'F', datetime.date(1989, 7, 7))\n",
      "(10028, datetime.date(1963, 11, 26), 'Domenick', 'Tempesti', 'M', datetime.date(1991, 10, 22))\n",
      "(10029, datetime.date(1956, 12, 13), 'Otmar', 'Herbst', 'M', datetime.date(1985, 11, 20))\n",
      "(10030, datetime.date(1958, 7, 14), 'Elvis', 'Demeyer', 'M', datetime.date(1994, 2, 17))\n",
      "(10031, datetime.date(1959, 1, 27), 'Karsten', 'Joslin', 'M', datetime.date(1991, 9, 1))\n",
      "(10032, datetime.date(1960, 8, 9), 'Jeong', 'Reistad', 'F', datetime.date(1990, 6, 20))\n",
      "(10033, datetime.date(1956, 11, 14), 'Arif', 'Merlo', 'M', datetime.date(1987, 3, 18))\n",
      "(10034, datetime.date(1962, 12, 29), 'Bader', 'Swan', 'M', datetime.date(1988, 9, 21))\n",
      "(10035, datetime.date(1953, 2, 8), 'Alain', 'Chappelet', 'M', datetime.date(1988, 9, 5))\n",
      "(10036, datetime.date(1959, 8, 10), 'Adamantios', 'Portugali', 'M', datetime.date(1992, 1, 3))\n",
      "(10037, datetime.date(1963, 7, 22), 'Pradeep', 'Makrucki', 'M', datetime.date(1990, 12, 5))\n",
      "(10038, datetime.date(1960, 7, 20), 'Huan', 'Lortz', 'M', datetime.date(1989, 9, 20))\n",
      "(10039, datetime.date(1959, 10, 1), 'Alejandro', 'Brender', 'M', datetime.date(1988, 1, 19))\n",
      "(10040, datetime.date(1959, 9, 13), 'Weiyi', 'Meriste', 'F', datetime.date(1993, 2, 14))\n",
      "(10041, datetime.date(1959, 8, 27), 'Uri', 'Lenart', 'F', datetime.date(1989, 11, 12))\n",
      "(10042, datetime.date(1956, 2, 26), 'Magy', 'Stamatiou', 'F', datetime.date(1993, 3, 21))\n",
      "(10043, datetime.date(1960, 9, 19), 'Yishay', 'Tzvieli', 'M', datetime.date(1990, 10, 20))\n",
      "(10044, datetime.date(1961, 9, 21), 'Mingsen', 'Casley', 'F', datetime.date(1994, 5, 21))\n",
      "(10045, datetime.date(1957, 8, 14), 'Moss', 'Shanbhogue', 'M', datetime.date(1989, 9, 2))\n",
      "(10046, datetime.date(1960, 7, 23), 'Lucien', 'Rosenbaum', 'M', datetime.date(1992, 6, 20))\n",
      "(10047, datetime.date(1952, 6, 29), 'Zvonko', 'Nyanchama', 'M', datetime.date(1989, 3, 31))\n",
      "(10048, datetime.date(1963, 7, 11), 'Florian', 'Syrotiuk', 'M', datetime.date(1985, 2, 24))\n",
      "(10049, datetime.date(1961, 4, 24), 'Basil', 'Tramer', 'F', datetime.date(1992, 5, 4))\n",
      "(10050, datetime.date(1958, 5, 21), 'Yinghua', 'Dredge', 'M', datetime.date(1990, 12, 25))\n"
     ]
    }
   ],
   "source": [
    "import pymysql\n",
    "try:\n",
    "    conexion = pymysql.connect(host='localhost',\n",
    "                             user='root',\n",
    "                             password='Ceci2803',\n",
    "                             db='employees')\n",
    "    try:\n",
    "        with conexion.cursor() as cursor:\n",
    "            # En este caso no necesitamos limpiar ningún dato\n",
    "            # Para probar, agregar al final de a sentencia SQL: LIMIT 100\n",
    "            cursor.execute(\"SELECT * FROM employees LIMIT 50;\")\n",
    " \n",
    "            # Con fetchall traemos todas las filas\n",
    "            employees = cursor.fetchall()\n",
    " \n",
    "            # Recorrer e imprimir\n",
    "            for emp in employees:\n",
    "                print(emp)\n",
    "    finally:\n",
    "        conexion.close()\n",
    "    \n",
    "except (pymysql.err.OperationalError, pymysql.err.InternalError) as e:\n",
    "    print(\"Ocurrió un error al conectar: \", e)"
   ]
  },
  {
   "cell_type": "code",
   "execution_count": 8,
   "metadata": {},
   "outputs": [
    {
     "name": "stdout",
     "output_type": "stream",
     "text": [
      "(10002, 'Simmel')\n",
      "(10006, 'Preusig')\n",
      "(10007, 'Zielinski')\n",
      "(10009, 'Peac')\n",
      "(10010, 'Piveteau')\n",
      "(10011, 'Sluis')\n",
      "(10017, 'Bouloucos')\n",
      "(10018, 'Peha')\n",
      "(10023, 'Montemayor')\n",
      "(10024, 'Pettey')\n",
      "(10027, 'Reistad')\n",
      "(10032, 'Reistad')\n",
      "(10040, 'Meriste')\n",
      "(10041, 'Lenart')\n",
      "(10042, 'Stamatiou')\n",
      "(10044, 'Casley')\n",
      "(10049, 'Tramer')\n",
      "(10053, 'Zschoche')\n",
      "(10056, 'Bernini')\n",
      "(10057, 'Callaway')\n",
      "(10059, 'McAlpine')\n",
      "(10063, 'Leonhardt')\n",
      "(10069, 'Bierman')\n",
      "(10072, 'Sidou')\n",
      "(10074, 'Bernatsky')\n",
      "(10075, 'Dolinsky')\n",
      "(10076, 'Ritzmann')\n",
      "(10078, 'Mondadori')\n",
      "(10079, 'Gils')\n",
      "(10087, 'Eugenio')\n",
      "(10088, 'Syrzycki')\n",
      "(10089, 'Flasterstein')\n",
      "(10092, 'Niizuma')\n",
      "(10094, 'Ossenbruggen')\n",
      "(10098, 'Servieres')\n",
      "(10099, 'Sullins')\n",
      "(10100, 'Haraldson')\n",
      "(10101, 'Heyers')\n",
      "(10102, 'Luby')\n",
      "(10107, 'Baca')\n",
      "(10109, 'Prampolini')\n",
      "(10110, 'Ullian')\n",
      "(10111, 'Rosis')\n",
      "(10112, 'Swick')\n",
      "(10114, 'Demeyer')\n",
      "(10116, 'Czap')\n",
      "(10117, 'Blokdijk')\n",
      "(10118, 'Zyda')\n",
      "(10120, 'Fairtlough')\n",
      "(10125, 'Hiltgen')\n"
     ]
    }
   ],
   "source": [
    "import pymysql\n",
    "try:\n",
    "    conexion = pymysql.connect(host='localhost',\n",
    "                             user='root',\n",
    "                             password='Ceci2803',\n",
    "                             db='employees')\n",
    "    try:\n",
    "        with conexion.cursor() as cursor:\n",
    "            #Para probar, agregar al final de a sentencia SQL: LIMIT 100\n",
    "            consulta = \"SELECT emp_no, last_name FROM employees WHERE gender ='F' LIMIT 50 ;\"\n",
    "            cursor.execute(consulta)\n",
    " \n",
    "            # Con fetchall traemos todas las filas\n",
    "            employees = cursor.fetchall()\n",
    " \n",
    "            # Recorrer e imprimir\n",
    "            for emp in employees:\n",
    "                print(emp)\n",
    "    finally:\n",
    "        conexion.close()\n",
    "    \n",
    "except (pymysql.err.OperationalError, pymysql.err.InternalError) as e:\n",
    "    print(\"Ocurrió un error al conectar: \", e)"
   ]
  },
  {
   "cell_type": "code",
   "execution_count": 9,
   "metadata": {},
   "outputs": [],
   "source": [
    "import pymysql\n",
    "try:\n",
    "    conexion = pymysql.connect(host='localhost',\n",
    "                             user='root',\n",
    "                             password='Ceci2803',\n",
    "                             db='employees')\n",
    "    try:\n",
    "        with conexion.cursor() as cursor:\n",
    "\n",
    "            #Como el num de empleado 1000 ya existe, busco el maximo emp_no con \n",
    "            # SELECT max(emp_no) FROM employees e inserto el siguiente\n",
    "            \n",
    "            consulta = \"INSERT INTO employees(emp_no, birth_date, first_name, last_name, gender, hire_date) VALUES (%s, %s, %s, %s, %s, %s);\"\n",
    "            #Podemos llamar muchas veces a .execute con datos distintos\n",
    "            cursor.execute(consulta, ('500000', '1985-01-01','Pepe', 'Pe','M','1985-01-01'))\n",
    "            #cursor.execute(consulta, ())\n",
    "            #cursor.execute(consulta, ())\n",
    "            #cursor.execute(consulta, ())\n",
    "        conexion.commit()\n",
    "    finally:\n",
    "        conexion.close()\n",
    "except (pymysql.err.OperationalError, pymysql.err.InternalError) as e:\n",
    "    print(\"Ocurrió un error al conectar: \", e)"
   ]
  },
  {
   "cell_type": "code",
   "execution_count": null,
   "metadata": {},
   "outputs": [],
   "source": []
  },
  {
   "cell_type": "code",
   "execution_count": null,
   "metadata": {},
   "outputs": [],
   "source": []
  }
 ],
 "metadata": {
  "kernelspec": {
   "display_name": "Python 3",
   "language": "python",
   "name": "python3"
  },
  "language_info": {
   "codemirror_mode": {
    "name": "ipython",
    "version": 3
   },
   "file_extension": ".py",
   "mimetype": "text/x-python",
   "name": "python",
   "nbconvert_exporter": "python",
   "pygments_lexer": "ipython3",
   "version": "3.8.5"
  }
 },
 "nbformat": 4,
 "nbformat_minor": 4
}
