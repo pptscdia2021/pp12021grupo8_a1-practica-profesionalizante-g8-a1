{
 "cells": [
  {
   "cell_type": "code",
   "execution_count": 1,
   "id": "polar-publicity",
   "metadata": {},
   "outputs": [],
   "source": [
    "# librerías\n",
    "\n",
    "import pandas as pd\n",
    "\n"
   ]
  },
  {
   "cell_type": "code",
   "execution_count": 5,
   "id": "caroline-studio",
   "metadata": {},
   "outputs": [
    {
     "name": "stdout",
     "output_type": "stream",
     "text": [
      "            Date       Open       High        Low      Close  Adj Close  \\\n",
      "0     2021-09-29   0.115000   0.116000   0.113000   0.115000   0.115000   \n",
      "1     2021-09-29  21.510000  21.580000  21.000000  21.010000  21.010000   \n",
      "2     2021-09-29   4.040000   4.040000   3.930000   3.960000   3.960000   \n",
      "3     2021-09-29   7.130000   7.180000   6.980000   7.040000   7.040000   \n",
      "4     2021-09-29  66.260002  67.010002  66.180000  66.279999  66.279999   \n",
      "...          ...        ...        ...        ...        ...        ...   \n",
      "1707  2021-09-29   1.900000   1.990000   1.880000   1.920000   1.920000   \n",
      "1708  2021-09-29  28.900000  28.900000  28.900000  28.900000  28.900000   \n",
      "1709  2021-09-29   7.030000   7.140000   6.790000   6.830000   6.830000   \n",
      "1710  2021-09-29   7.440000   7.670000   7.440000   7.550000   7.550000   \n",
      "1711  2021-09-29  43.320000  44.599998  42.959999  43.110001  43.110001   \n",
      "\n",
      "          Volume  Name  \n",
      "0      1541000.0  AAIT  \n",
      "1     20467900.0   AAL  \n",
      "2         7400.0  AAME  \n",
      "3       273400.0  AAOI  \n",
      "4        92400.0  AAON  \n",
      "...          ...   ...  \n",
      "1707   1702700.0  ZIOP  \n",
      "1708         0.0   ZIV  \n",
      "1709    374600.0  ZIXI  \n",
      "1710  20252700.0  ZNGA  \n",
      "1711    229000.0  ZUMZ  \n",
      "\n",
      "[1712 rows x 8 columns]\n"
     ]
    }
   ],
   "source": [
    "df1 = pd.read_csv(\"data_stockfinal.csv\",sep=',')\n",
    "print(df1)"
   ]
  },
  {
   "cell_type": "code",
   "execution_count": 6,
   "id": "comfortable-disaster",
   "metadata": {},
   "outputs": [
    {
     "data": {
      "text/html": [
       "<div>\n",
       "<style scoped>\n",
       "    .dataframe tbody tr th:only-of-type {\n",
       "        vertical-align: middle;\n",
       "    }\n",
       "\n",
       "    .dataframe tbody tr th {\n",
       "        vertical-align: top;\n",
       "    }\n",
       "\n",
       "    .dataframe thead th {\n",
       "        text-align: right;\n",
       "    }\n",
       "</style>\n",
       "<table border=\"1\" class=\"dataframe\">\n",
       "  <thead>\n",
       "    <tr style=\"text-align: right;\">\n",
       "      <th></th>\n",
       "      <th>Date</th>\n",
       "      <th>Open</th>\n",
       "      <th>High</th>\n",
       "      <th>Low</th>\n",
       "      <th>Close</th>\n",
       "      <th>Adj Close</th>\n",
       "      <th>Volume</th>\n",
       "      <th>Name</th>\n",
       "    </tr>\n",
       "  </thead>\n",
       "  <tbody>\n",
       "    <tr>\n",
       "      <th>0</th>\n",
       "      <td>2021-09-29</td>\n",
       "      <td>0.115000</td>\n",
       "      <td>0.116000</td>\n",
       "      <td>0.113</td>\n",
       "      <td>0.115000</td>\n",
       "      <td>0.115000</td>\n",
       "      <td>1541000.0</td>\n",
       "      <td>AAIT</td>\n",
       "    </tr>\n",
       "    <tr>\n",
       "      <th>1</th>\n",
       "      <td>2021-09-29</td>\n",
       "      <td>21.510000</td>\n",
       "      <td>21.580000</td>\n",
       "      <td>21.000</td>\n",
       "      <td>21.010000</td>\n",
       "      <td>21.010000</td>\n",
       "      <td>20467900.0</td>\n",
       "      <td>AAL</td>\n",
       "    </tr>\n",
       "    <tr>\n",
       "      <th>2</th>\n",
       "      <td>2021-09-29</td>\n",
       "      <td>4.040000</td>\n",
       "      <td>4.040000</td>\n",
       "      <td>3.930</td>\n",
       "      <td>3.960000</td>\n",
       "      <td>3.960000</td>\n",
       "      <td>7400.0</td>\n",
       "      <td>AAME</td>\n",
       "    </tr>\n",
       "    <tr>\n",
       "      <th>3</th>\n",
       "      <td>2021-09-29</td>\n",
       "      <td>7.130000</td>\n",
       "      <td>7.180000</td>\n",
       "      <td>6.980</td>\n",
       "      <td>7.040000</td>\n",
       "      <td>7.040000</td>\n",
       "      <td>273400.0</td>\n",
       "      <td>AAOI</td>\n",
       "    </tr>\n",
       "    <tr>\n",
       "      <th>4</th>\n",
       "      <td>2021-09-29</td>\n",
       "      <td>66.260002</td>\n",
       "      <td>67.010002</td>\n",
       "      <td>66.180</td>\n",
       "      <td>66.279999</td>\n",
       "      <td>66.279999</td>\n",
       "      <td>92400.0</td>\n",
       "      <td>AAON</td>\n",
       "    </tr>\n",
       "  </tbody>\n",
       "</table>\n",
       "</div>"
      ],
      "text/plain": [
       "         Date       Open       High     Low      Close  Adj Close      Volume  \\\n",
       "0  2021-09-29   0.115000   0.116000   0.113   0.115000   0.115000   1541000.0   \n",
       "1  2021-09-29  21.510000  21.580000  21.000  21.010000  21.010000  20467900.0   \n",
       "2  2021-09-29   4.040000   4.040000   3.930   3.960000   3.960000      7400.0   \n",
       "3  2021-09-29   7.130000   7.180000   6.980   7.040000   7.040000    273400.0   \n",
       "4  2021-09-29  66.260002  67.010002  66.180  66.279999  66.279999     92400.0   \n",
       "\n",
       "   Name  \n",
       "0  AAIT  \n",
       "1   AAL  \n",
       "2  AAME  \n",
       "3  AAOI  \n",
       "4  AAON  "
      ]
     },
     "execution_count": 6,
     "metadata": {},
     "output_type": "execute_result"
    }
   ],
   "source": [
    "df1.head()"
   ]
  },
  {
   "cell_type": "code",
   "execution_count": 7,
   "id": "caroline-shanghai",
   "metadata": {},
   "outputs": [
    {
     "name": "stdout",
     "output_type": "stream",
     "text": [
      "<class 'pandas.core.frame.DataFrame'>\n",
      "RangeIndex: 1712 entries, 0 to 1711\n",
      "Data columns (total 8 columns):\n",
      " #   Column     Non-Null Count  Dtype  \n",
      "---  ------     --------------  -----  \n",
      " 0   Date       1712 non-null   object \n",
      " 1   Open       1711 non-null   float64\n",
      " 2   High       1711 non-null   float64\n",
      " 3   Low        1711 non-null   float64\n",
      " 4   Close      1711 non-null   float64\n",
      " 5   Adj Close  1711 non-null   float64\n",
      " 6   Volume     1711 non-null   float64\n",
      " 7   Name       1712 non-null   object \n",
      "dtypes: float64(6), object(2)\n",
      "memory usage: 107.1+ KB\n"
     ]
    }
   ],
   "source": [
    "\n",
    "df1.info()"
   ]
  },
  {
   "cell_type": "code",
   "execution_count": null,
   "id": "recovered-fiction",
   "metadata": {},
   "outputs": [],
   "source": []
  },
  {
   "cell_type": "code",
   "execution_count": null,
   "id": "bearing-inquiry",
   "metadata": {},
   "outputs": [],
   "source": []
  },
  {
   "cell_type": "code",
   "execution_count": null,
   "id": "finnish-grace",
   "metadata": {},
   "outputs": [],
   "source": []
  },
  {
   "cell_type": "code",
   "execution_count": null,
   "id": "patent-concrete",
   "metadata": {},
   "outputs": [],
   "source": []
  },
  {
   "cell_type": "code",
   "execution_count": null,
   "id": "japanese-spain",
   "metadata": {},
   "outputs": [],
   "source": []
  }
 ],
 "metadata": {
  "kernelspec": {
   "display_name": "Python 3",
   "language": "python",
   "name": "python3"
  },
  "language_info": {
   "codemirror_mode": {
    "name": "ipython",
    "version": 3
   },
   "file_extension": ".py",
   "mimetype": "text/x-python",
   "name": "python",
   "nbconvert_exporter": "python",
   "pygments_lexer": "ipython3",
   "version": "3.7.10"
  }
 },
 "nbformat": 4,
 "nbformat_minor": 5
}
